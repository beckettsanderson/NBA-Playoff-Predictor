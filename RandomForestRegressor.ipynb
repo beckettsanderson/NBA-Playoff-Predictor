{
 "cells": [
  {
   "cell_type": "markdown",
   "id": "cbcc7033",
   "metadata": {},
   "source": [
    "# Random Forest Regressor Model\n",
    "### NBA Playoff Predictor"
   ]
  },
  {
   "cell_type": "code",
   "execution_count": 1,
   "id": "50061998",
   "metadata": {},
   "outputs": [],
   "source": [
    "import pandas as pd\n",
    "from sklearn.ensemble import RandomForestRegressor\n",
    "from sklearn.model_selection import train_test_split\n",
    "from sklearn.metrics import mean_squared_error\n",
    "import copy"
   ]
  },
  {
   "cell_type": "code",
   "execution_count": 2,
   "id": "11382b63",
   "metadata": {},
   "outputs": [],
   "source": [
    "pd.set_option('display.max_columns', None)\n",
    "ALL_SEASONS = \"seasons_data.csv\"\n",
    "CUR_SEASON = \"2023_data.csv\""
   ]
  },
  {
   "cell_type": "markdown",
   "id": "786ff771",
   "metadata": {},
   "source": [
    "### Read all data"
   ]
  },
  {
   "cell_type": "code",
   "execution_count": 3,
   "id": "feae67ae",
   "metadata": {},
   "outputs": [],
   "source": [
    "# read in our csv's of data\n",
    "all_df = pd.read_csv(ALL_SEASONS)\n",
    "df_23 = pd.read_csv(CUR_SEASON)\n",
    "\n",
    "# concat the data\n",
    "df = pd.concat([all_df, df_23], ignore_index=True)\n",
    "\n",
    "# drop minutes played and attendance per game\n",
    "all_df.drop(['MP', 'Attend./G'], axis=1, inplace=True)\n",
    "df_23.drop(['MP', 'Attend./G'], axis=1, inplace=True)"
   ]
  },
  {
   "cell_type": "markdown",
   "id": "72318655",
   "metadata": {},
   "source": [
    "## Make model using all attributes"
   ]
  },
  {
   "cell_type": "code",
   "execution_count": 4,
   "id": "53e1e4c4",
   "metadata": {},
   "outputs": [],
   "source": [
    "# split the data using all features\n",
    "features = all_df[all_df.columns[1:-2]]\n",
    "target = all_df[['Playoff']]\n",
    "\n",
    "X = features  # get the input features\n",
    "y = target  # get the target\n",
    "\n",
    "X_train, X_test, y_train, y_test = train_test_split(X,  # the input features\n",
    "                                                    y,  # the label\n",
    "                                                    test_size=0.3,  # set aside 30% of the data as the test set\n",
    "                                                    random_state=7  # reproduce the results\n",
    "                                                     )"
   ]
  },
  {
   "cell_type": "code",
   "execution_count": 5,
   "id": "b4c574c5",
   "metadata": {},
   "outputs": [
    {
     "name": "stderr",
     "output_type": "stream",
     "text": [
      "C:\\Users\\marco\\AppData\\Local\\Temp\\ipykernel_24292\\1117082966.py:3: DataConversionWarning: A column-vector y was passed when a 1d array was expected. Please change the shape of y to (n_samples,), for example using ravel().\n",
      "  rf.fit(X_train, y_train)\n"
     ]
    },
    {
     "name": "stdout",
     "output_type": "stream",
     "text": [
      "The mse of the model is: 0.028745459401709406\n"
     ]
    }
   ],
   "source": [
    "# make random forest regressor model with all features\n",
    "rf = RandomForestRegressor(random_state=7)\n",
    "rf.fit(X_train, y_train)\n",
    "\n",
    "# predict the labels for the test set\n",
    "y_pred = rf.predict(X_test)\n",
    "mse = mean_squared_error(y_test, y_pred)\n",
    "\n",
    "# Evaluate the Predictions\n",
    "print('The mse of the model is: {}'.format(mse))"
   ]
  },
  {
   "cell_type": "markdown",
   "id": "2e0bdaa5",
   "metadata": {},
   "source": [
    "### Determine feature importance"
   ]
  },
  {
   "cell_type": "code",
   "execution_count": 6,
   "id": "32dcf142",
   "metadata": {},
   "outputs": [
    {
     "data": {
      "text/html": [
       "<div>\n",
       "<style scoped>\n",
       "    .dataframe tbody tr th:only-of-type {\n",
       "        vertical-align: middle;\n",
       "    }\n",
       "\n",
       "    .dataframe tbody tr th {\n",
       "        vertical-align: top;\n",
       "    }\n",
       "\n",
       "    .dataframe thead th {\n",
       "        text-align: right;\n",
       "    }\n",
       "</style>\n",
       "<table border=\"1\" class=\"dataframe\">\n",
       "  <thead>\n",
       "    <tr style=\"text-align: right;\">\n",
       "      <th></th>\n",
       "      <th>stat</th>\n",
       "      <th>value</th>\n",
       "    </tr>\n",
       "  </thead>\n",
       "  <tbody>\n",
       "    <tr>\n",
       "      <th>33</th>\n",
       "      <td>win_perc</td>\n",
       "      <td>0.665695</td>\n",
       "    </tr>\n",
       "    <tr>\n",
       "      <th>16</th>\n",
       "      <td>SOS</td>\n",
       "      <td>0.032370</td>\n",
       "    </tr>\n",
       "    <tr>\n",
       "      <th>20</th>\n",
       "      <td>NRtg</td>\n",
       "      <td>0.027230</td>\n",
       "    </tr>\n",
       "    <tr>\n",
       "      <th>15</th>\n",
       "      <td>MOV</td>\n",
       "      <td>0.022611</td>\n",
       "    </tr>\n",
       "    <tr>\n",
       "      <th>14</th>\n",
       "      <td>PL</td>\n",
       "      <td>0.021840</td>\n",
       "    </tr>\n",
       "  </tbody>\n",
       "</table>\n",
       "</div>"
      ],
      "text/plain": [
       "        stat     value\n",
       "33  win_perc  0.665695\n",
       "16       SOS  0.032370\n",
       "20      NRtg  0.027230\n",
       "15       MOV  0.022611\n",
       "14        PL  0.021840"
      ]
     },
     "execution_count": 6,
     "metadata": {},
     "output_type": "execute_result"
    }
   ],
   "source": [
    "# Determine feature importance, identify features\n",
    "importances = pd.DataFrame({'stat': features.columns,\n",
    "                            'value': rf.feature_importances_})\n",
    "importances.sort_values('value', ascending=False, inplace=True)\n",
    "importances.head()"
   ]
  },
  {
   "cell_type": "markdown",
   "id": "69314993",
   "metadata": {},
   "source": [
    "## Make model using top attributes from past model"
   ]
  },
  {
   "cell_type": "code",
   "execution_count": 7,
   "id": "02365a02",
   "metadata": {},
   "outputs": [],
   "source": [
    "# split the data with top 10 features\n",
    "features = all_df[importances.loc[:11, 'stat']]\n",
    "target = all_df[['Playoff']]\n",
    "\n",
    "X = features  # get the input features\n",
    "y = target  # get the target\n",
    "\n",
    "X_train, X_test, y_train, y_test = train_test_split(X,  # the input features\n",
    "                                                    y,  # the label\n",
    "                                                    test_size=0.3,  # set aside 30% of the data as the test set\n",
    "                                                    random_state=7  # reproduce the results\n",
    "                                                     )"
   ]
  },
  {
   "cell_type": "code",
   "execution_count": 8,
   "id": "b3b9c321",
   "metadata": {},
   "outputs": [
    {
     "name": "stderr",
     "output_type": "stream",
     "text": [
      "C:\\Users\\marco\\AppData\\Local\\Temp\\ipykernel_24292\\3159517516.py:3: DataConversionWarning: A column-vector y was passed when a 1d array was expected. Please change the shape of y to (n_samples,), for example using ravel().\n",
      "  rf.fit(X_train, y_train)\n"
     ]
    },
    {
     "name": "stdout",
     "output_type": "stream",
     "text": [
      "The mse of the model is: 0.029344604700854697\n"
     ]
    }
   ],
   "source": [
    "# make random forest regressor model with top 10 features\n",
    "rf = RandomForestRegressor(random_state=7)\n",
    "rf.fit(X_train, y_train)\n",
    "\n",
    "# predict the labels for the test set\n",
    "y_pred = rf.predict(X_test)\n",
    "mse = mean_squared_error(y_test, y_pred)\n",
    "\n",
    "# Evaluate the Predictions\n",
    "print('The mse of the model is: {}'.format(mse))"
   ]
  },
  {
   "cell_type": "markdown",
   "id": "f6c09c44",
   "metadata": {},
   "source": [
    "### Results\n",
    "This model performs slightly worse than the model using all the attributes (higher MSE)."
   ]
  },
  {
   "cell_type": "markdown",
   "id": "e6148806",
   "metadata": {},
   "source": [
    "## Use better model to predict outcome of current teams"
   ]
  },
  {
   "cell_type": "code",
   "execution_count": 9,
   "id": "4d637caa",
   "metadata": {},
   "outputs": [],
   "source": [
    "# split the data using all features\n",
    "features = all_df[all_df.columns[1:-2]]\n",
    "target = all_df[['Playoff']]\n",
    "\n",
    "X = features  # get the input features\n",
    "y = target  # get the target\n",
    "\n",
    "X_train, X_test, y_train, y_test = train_test_split(X,  # the input features\n",
    "                                                    y,  # the label\n",
    "                                                    test_size=0.3,  # set aside 30% of the data as the test set\n",
    "                                                    random_state=7  # reproduce the results\n",
    "                                                     )"
   ]
  },
  {
   "cell_type": "code",
   "execution_count": 10,
   "id": "4ea4972e",
   "metadata": {},
   "outputs": [
    {
     "name": "stderr",
     "output_type": "stream",
     "text": [
      "C:\\Users\\marco\\AppData\\Local\\Temp\\ipykernel_24292\\3737997200.py:3: DataConversionWarning: A column-vector y was passed when a 1d array was expected. Please change the shape of y to (n_samples,), for example using ravel().\n",
      "  rf.fit(X_train, y_train)\n"
     ]
    }
   ],
   "source": [
    "# make random forest regressor model with all features\n",
    "rf = RandomForestRegressor(random_state=7)\n",
    "rf.fit(X_train, y_train)\n",
    "\n",
    "# predict the labels for the 2023 teams\n",
    "df_23_new = copy.deepcopy(df_23)\n",
    "teams = df_23.loc[:, 'Team']\n",
    "\n",
    "df_23_new.drop(['Team', 'Year'], axis=1, inplace=True)\n",
    "y_pred = rf.predict(df_23_new)"
   ]
  },
  {
   "cell_type": "code",
   "execution_count": 11,
   "id": "e946bb4b",
   "metadata": {},
   "outputs": [
    {
     "data": {
      "text/html": [
       "<div>\n",
       "<style scoped>\n",
       "    .dataframe tbody tr th:only-of-type {\n",
       "        vertical-align: middle;\n",
       "    }\n",
       "\n",
       "    .dataframe tbody tr th {\n",
       "        vertical-align: top;\n",
       "    }\n",
       "\n",
       "    .dataframe thead th {\n",
       "        text-align: right;\n",
       "    }\n",
       "</style>\n",
       "<table border=\"1\" class=\"dataframe\">\n",
       "  <thead>\n",
       "    <tr style=\"text-align: right;\">\n",
       "      <th></th>\n",
       "      <th>Team</th>\n",
       "      <th>Playoff</th>\n",
       "    </tr>\n",
       "  </thead>\n",
       "  <tbody>\n",
       "    <tr>\n",
       "      <th>0</th>\n",
       "      <td>Milwaukee Bucks</td>\n",
       "      <td>0.7350</td>\n",
       "    </tr>\n",
       "    <tr>\n",
       "      <th>1</th>\n",
       "      <td>Denver Nuggets</td>\n",
       "      <td>0.6900</td>\n",
       "    </tr>\n",
       "    <tr>\n",
       "      <th>2</th>\n",
       "      <td>Boston Celtics</td>\n",
       "      <td>0.6750</td>\n",
       "    </tr>\n",
       "    <tr>\n",
       "      <th>3</th>\n",
       "      <td>Cleveland Cavaliers</td>\n",
       "      <td>0.6150</td>\n",
       "    </tr>\n",
       "    <tr>\n",
       "      <th>4</th>\n",
       "      <td>Philadelphia 76ers</td>\n",
       "      <td>0.6050</td>\n",
       "    </tr>\n",
       "    <tr>\n",
       "      <th>5</th>\n",
       "      <td>Memphis Grizzlies</td>\n",
       "      <td>0.5600</td>\n",
       "    </tr>\n",
       "    <tr>\n",
       "      <th>6</th>\n",
       "      <td>Sacramento Kings</td>\n",
       "      <td>0.5325</td>\n",
       "    </tr>\n",
       "    <tr>\n",
       "      <th>7</th>\n",
       "      <td>Los Angeles Clippers</td>\n",
       "      <td>0.3650</td>\n",
       "    </tr>\n",
       "    <tr>\n",
       "      <th>8</th>\n",
       "      <td>Brooklyn Nets</td>\n",
       "      <td>0.3575</td>\n",
       "    </tr>\n",
       "    <tr>\n",
       "      <th>9</th>\n",
       "      <td>New York Knicks</td>\n",
       "      <td>0.3375</td>\n",
       "    </tr>\n",
       "    <tr>\n",
       "      <th>10</th>\n",
       "      <td>Golden State Warriors</td>\n",
       "      <td>0.3325</td>\n",
       "    </tr>\n",
       "    <tr>\n",
       "      <th>11</th>\n",
       "      <td>Miami Heat</td>\n",
       "      <td>0.3125</td>\n",
       "    </tr>\n",
       "    <tr>\n",
       "      <th>12</th>\n",
       "      <td>Phoenix Suns</td>\n",
       "      <td>0.2475</td>\n",
       "    </tr>\n",
       "    <tr>\n",
       "      <th>13</th>\n",
       "      <td>Los Angeles Lakers</td>\n",
       "      <td>0.1925</td>\n",
       "    </tr>\n",
       "    <tr>\n",
       "      <th>14</th>\n",
       "      <td>New Orleans Pelicans</td>\n",
       "      <td>0.1700</td>\n",
       "    </tr>\n",
       "    <tr>\n",
       "      <th>15</th>\n",
       "      <td>Minnesota Timberwolves</td>\n",
       "      <td>0.1450</td>\n",
       "    </tr>\n",
       "    <tr>\n",
       "      <th>16</th>\n",
       "      <td>Atlanta Hawks</td>\n",
       "      <td>0.1400</td>\n",
       "    </tr>\n",
       "    <tr>\n",
       "      <th>17</th>\n",
       "      <td>Dallas Mavericks</td>\n",
       "      <td>0.1300</td>\n",
       "    </tr>\n",
       "    <tr>\n",
       "      <th>18</th>\n",
       "      <td>Toronto Raptors</td>\n",
       "      <td>0.1225</td>\n",
       "    </tr>\n",
       "    <tr>\n",
       "      <th>19</th>\n",
       "      <td>Oklahoma City Thunder</td>\n",
       "      <td>0.1025</td>\n",
       "    </tr>\n",
       "    <tr>\n",
       "      <th>20</th>\n",
       "      <td>Chicago Bulls</td>\n",
       "      <td>0.0900</td>\n",
       "    </tr>\n",
       "    <tr>\n",
       "      <th>21</th>\n",
       "      <td>Utah Jazz</td>\n",
       "      <td>0.0850</td>\n",
       "    </tr>\n",
       "    <tr>\n",
       "      <th>22</th>\n",
       "      <td>Washington Wizards</td>\n",
       "      <td>0.0375</td>\n",
       "    </tr>\n",
       "    <tr>\n",
       "      <th>23</th>\n",
       "      <td>Indiana Pacers</td>\n",
       "      <td>0.0325</td>\n",
       "    </tr>\n",
       "    <tr>\n",
       "      <th>24</th>\n",
       "      <td>Portland Trail Blazers</td>\n",
       "      <td>0.0300</td>\n",
       "    </tr>\n",
       "    <tr>\n",
       "      <th>25</th>\n",
       "      <td>San Antonio Spurs</td>\n",
       "      <td>0.0150</td>\n",
       "    </tr>\n",
       "    <tr>\n",
       "      <th>26</th>\n",
       "      <td>Houston Rockets</td>\n",
       "      <td>0.0125</td>\n",
       "    </tr>\n",
       "    <tr>\n",
       "      <th>27</th>\n",
       "      <td>Orlando Magic</td>\n",
       "      <td>0.0050</td>\n",
       "    </tr>\n",
       "    <tr>\n",
       "      <th>28</th>\n",
       "      <td>Detroit Pistons</td>\n",
       "      <td>0.0025</td>\n",
       "    </tr>\n",
       "    <tr>\n",
       "      <th>29</th>\n",
       "      <td>Charlotte Hornets</td>\n",
       "      <td>0.0000</td>\n",
       "    </tr>\n",
       "  </tbody>\n",
       "</table>\n",
       "</div>"
      ],
      "text/plain": [
       "                      Team  Playoff\n",
       "0          Milwaukee Bucks   0.7350\n",
       "1           Denver Nuggets   0.6900\n",
       "2           Boston Celtics   0.6750\n",
       "3      Cleveland Cavaliers   0.6150\n",
       "4       Philadelphia 76ers   0.6050\n",
       "5        Memphis Grizzlies   0.5600\n",
       "6         Sacramento Kings   0.5325\n",
       "7     Los Angeles Clippers   0.3650\n",
       "8            Brooklyn Nets   0.3575\n",
       "9          New York Knicks   0.3375\n",
       "10   Golden State Warriors   0.3325\n",
       "11              Miami Heat   0.3125\n",
       "12            Phoenix Suns   0.2475\n",
       "13      Los Angeles Lakers   0.1925\n",
       "14    New Orleans Pelicans   0.1700\n",
       "15  Minnesota Timberwolves   0.1450\n",
       "16           Atlanta Hawks   0.1400\n",
       "17        Dallas Mavericks   0.1300\n",
       "18         Toronto Raptors   0.1225\n",
       "19   Oklahoma City Thunder   0.1025\n",
       "20           Chicago Bulls   0.0900\n",
       "21               Utah Jazz   0.0850\n",
       "22      Washington Wizards   0.0375\n",
       "23          Indiana Pacers   0.0325\n",
       "24  Portland Trail Blazers   0.0300\n",
       "25       San Antonio Spurs   0.0150\n",
       "26         Houston Rockets   0.0125\n",
       "27           Orlando Magic   0.0050\n",
       "28         Detroit Pistons   0.0025\n",
       "29       Charlotte Hornets   0.0000"
      ]
     },
     "execution_count": 11,
     "metadata": {},
     "output_type": "execute_result"
    }
   ],
   "source": [
    "# match outcome with team, place in descending order\n",
    "outcome = pd.DataFrame({'Team': teams,\n",
    "                        'Playoff': y_pred})\n",
    "outcome.sort_values('Playoff', ascending=False, inplace=True, ignore_index=True)\n",
    "outcome"
   ]
  }
 ],
 "metadata": {
  "kernelspec": {
   "display_name": "Python 3 (ipykernel)",
   "language": "python",
   "name": "python3"
  },
  "language_info": {
   "codemirror_mode": {
    "name": "ipython",
    "version": 3
   },
   "file_extension": ".py",
   "mimetype": "text/x-python",
   "name": "python",
   "nbconvert_exporter": "python",
   "pygments_lexer": "ipython3",
   "version": "3.9.16"
  }
 },
 "nbformat": 4,
 "nbformat_minor": 5
}
