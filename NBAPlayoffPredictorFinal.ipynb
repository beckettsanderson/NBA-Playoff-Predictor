{
 "cells": [
  {
   "cell_type": "markdown",
   "id": "9f071a5d",
   "metadata": {},
   "source": [
    "# NBA Playoff Predictor Final Project"
   ]
  },
  {
   "cell_type": "markdown",
   "id": "d676ad3f",
   "metadata": {},
   "source": [
    "Beckett Sanderson, Marcos Equiza, Sean Ediger\n",
    "\n",
    "April 2023"
   ]
  },
  {
   "cell_type": "code",
   "execution_count": 1,
   "id": "f5a05e43",
   "metadata": {},
   "outputs": [],
   "source": [
    "import pandas as pd\n",
    "import matplotlib.pyplot as plt\n",
    "import seaborn as sns\n",
    "from sklearn.ensemble import RandomForestRegressor\n",
    "from sklearn.neighbors import KNeighborsRegressor\n",
    "from sklearn.model_selection import train_test_split\n",
    "from sklearn.metrics import mean_squared_error\n",
    "from sklearn.linear_model import LinearRegression\n",
    "import copy\n",
    "import warnings\n",
    "warnings.simplefilter(action='ignore')"
   ]
  },
  {
   "cell_type": "code",
   "execution_count": 2,
   "id": "9125c9ee",
   "metadata": {},
   "outputs": [],
   "source": [
    "pd.set_option('display.max_columns', None)\n",
    "ALL_SEASONS = \"seasons_data.csv\"\n",
    "CUR_SEASON = \"2023_data.csv\""
   ]
  },
  {
   "cell_type": "markdown",
   "id": "8164f7e6",
   "metadata": {},
   "source": [
    "# Read and load all the data"
   ]
  },
  {
   "cell_type": "code",
   "execution_count": 3,
   "id": "bb9d62d5",
   "metadata": {},
   "outputs": [],
   "source": [
    "# read in our csv's of data\n",
    "all_df = pd.read_csv(ALL_SEASONS)\n",
    "df_23 = pd.read_csv(CUR_SEASON)\n",
    "\n",
    "# drop minutes played and attendance per game\n",
    "all_df.drop(['MP', 'Attend./G'], axis=1, inplace=True)\n",
    "df_23.drop(['MP', 'Attend./G'], axis=1, inplace=True)"
   ]
  },
  {
   "cell_type": "markdown",
   "id": "16fce03f",
   "metadata": {},
   "source": [
    "# MACHINE LEARNING MODELS"
   ]
  },
  {
   "cell_type": "markdown",
   "id": "bafd0aec",
   "metadata": {},
   "source": [
    "## K-Nearest Neighbor Model"
   ]
  },
  {
   "cell_type": "markdown",
   "id": "98dc31c5",
   "metadata": {},
   "source": [
    "### Split all the data using every attribute"
   ]
  },
  {
   "cell_type": "code",
   "execution_count": 4,
   "id": "287bb767",
   "metadata": {},
   "outputs": [],
   "source": [
    "# split the data using all features\n",
    "features = all_df[all_df.columns[1:-2]]\n",
    "target = all_df[['Playoff']]\n",
    "\n",
    "X = features  # get the input features\n",
    "y = target  # get the target\n",
    "\n",
    "X_train, X_test, y_train, y_test = train_test_split(X,  # the input features\n",
    "                                                    y,  # the label\n",
    "                                                    test_size=0.3,  # set aside 30% of the data as the test set\n",
    "                                                    random_state=7  # reproduce the results\n",
    "                                                     )"
   ]
  },
  {
   "cell_type": "markdown",
   "id": "a205dd17",
   "metadata": {},
   "source": [
    "### Hyperparameter tuning\n",
    "Identify which k value gets the highest accuracy score"
   ]
  },
  {
   "cell_type": "code",
   "execution_count": 5,
   "id": "7527cdcf",
   "metadata": {},
   "outputs": [
    {
     "data": {
      "image/png": "[encoded data removed]",
      "text/plain": [
       "<Figure size 432x288 with 1 Axes>"
      ]
     },
     "metadata": {
      "needs_background": "light"
     },
     "output_type": "display_data"
    }
   ],
   "source": [
    "predictions = {}\n",
    "\n",
    "for k in range(1, 20): #increment k by 2\n",
    "    knn = KNeighborsRegressor(n_neighbors=k)\n",
    "    knn.fit(X_train, y_train)\n",
    "    predictions[k] = knn.score(X_test, y_test)\n",
    "    \n",
    "sns.lineplot(x=predictions.keys(), y=predictions.values())\n",
    "plt.title('Accuracy vs. k-value')\n",
    "plt.xlabel('k-value')\n",
    "plt.ylabel('Accuracy')\n",
    "plt.show()    "
   ]
  },
  {
   "cell_type": "markdown",
   "id": "077a8ef3",
   "metadata": {},
   "source": [
    "### Create model with best k-value"
   ]
  },
  {
   "cell_type": "code",
   "execution_count": 6,
   "id": "b8c7b795",
   "metadata": {},
   "outputs": [
    {
     "name": "stdout",
     "output_type": "stream",
     "text": [
      "The accuracy of the model is: 0.27305236803671995\n"
     ]
    }
   ],
   "source": [
    "#Create the model with n_neighbors = 5\n",
    "knn = KNeighborsRegressor(n_neighbors = 5) #initialize the classifier and set the number of neighbors\n",
    "\n",
    "knn.fit(X_train, y_train)\n",
    "print('The accuracy of the model is: {}'.format(knn.score(X_test, y_test)))"
   ]
  },
  {
   "cell_type": "code",
   "execution_count": 7,
   "id": "c72873c7",
   "metadata": {},
   "outputs": [
    {
     "name": "stdout",
     "output_type": "stream",
     "text": [
      "The mse of the model is: 0.06363247863247863\n"
     ]
    }
   ],
   "source": [
    "# predict the labels for the test set\n",
    "y_pred = knn.predict(X_test)\n",
    "mse = mean_squared_error(y_test, y_pred)\n",
    "\n",
    "# Evaluate the Predictions\n",
    "print('The mse of the model is: {}'.format(mse))"
   ]
  },
  {
   "cell_type": "markdown",
   "id": "a4784c08",
   "metadata": {},
   "source": [
    "### Use the model to predict the outcome of the Playoffs using the current teams"
   ]
  },
  {
   "cell_type": "code",
   "execution_count": 8,
   "id": "c04a4e74",
   "metadata": {},
   "outputs": [],
   "source": [
    "# predict the labels for the 2023 teams\n",
    "df_23_new = copy.deepcopy(df_23)\n",
    "teams = df_23.loc[:, 'Team']\n",
    "\n",
    "df_23_new.drop(['Team', 'Year'], axis=1, inplace=True)\n",
    "y_pred = knn.predict(df_23_new)"
   ]
  },
  {
   "cell_type": "code",
   "execution_count": 9,
   "id": "d00afda1",
   "metadata": {},
   "outputs": [
    {
     "data": {
      "text/html": [
       "<div>\n",
       "<style scoped>\n",
       "    .dataframe tbody tr th:only-of-type {\n",
       "        vertical-align: middle;\n",
       "    }\n",
       "\n",
       "    .dataframe tbody tr th {\n",
       "        vertical-align: top;\n",
       "    }\n",
       "\n",
       "    .dataframe thead th {\n",
       "        text-align: right;\n",
       "    }\n",
       "</style>\n",
       "<table border=\"1\" class=\"dataframe\">\n",
       "  <thead>\n",
       "    <tr style=\"text-align: right;\">\n",
       "      <th></th>\n",
       "      <th>Team</th>\n",
       "      <th>Playoff</th>\n",
       "    </tr>\n",
       "  </thead>\n",
       "  <tbody>\n",
       "    <tr>\n",
       "      <th>0</th>\n",
       "      <td>Cleveland Cavaliers</td>\n",
       "      <td>0.85</td>\n",
       "    </tr>\n",
       "    <tr>\n",
       "      <th>1</th>\n",
       "      <td>Boston Celtics</td>\n",
       "      <td>0.45</td>\n",
       "    </tr>\n",
       "    <tr>\n",
       "      <th>2</th>\n",
       "      <td>Portland Trail Blazers</td>\n",
       "      <td>0.45</td>\n",
       "    </tr>\n",
       "    <tr>\n",
       "      <th>3</th>\n",
       "      <td>New York Knicks</td>\n",
       "      <td>0.45</td>\n",
       "    </tr>\n",
       "    <tr>\n",
       "      <th>4</th>\n",
       "      <td>Milwaukee Bucks</td>\n",
       "      <td>0.40</td>\n",
       "    </tr>\n",
       "    <tr>\n",
       "      <th>5</th>\n",
       "      <td>Los Angeles Clippers</td>\n",
       "      <td>0.40</td>\n",
       "    </tr>\n",
       "    <tr>\n",
       "      <th>6</th>\n",
       "      <td>Phoenix Suns</td>\n",
       "      <td>0.35</td>\n",
       "    </tr>\n",
       "    <tr>\n",
       "      <th>7</th>\n",
       "      <td>Toronto Raptors</td>\n",
       "      <td>0.30</td>\n",
       "    </tr>\n",
       "    <tr>\n",
       "      <th>8</th>\n",
       "      <td>Sacramento Kings</td>\n",
       "      <td>0.30</td>\n",
       "    </tr>\n",
       "    <tr>\n",
       "      <th>9</th>\n",
       "      <td>Washington Wizards</td>\n",
       "      <td>0.25</td>\n",
       "    </tr>\n",
       "    <tr>\n",
       "      <th>10</th>\n",
       "      <td>Brooklyn Nets</td>\n",
       "      <td>0.25</td>\n",
       "    </tr>\n",
       "    <tr>\n",
       "      <th>11</th>\n",
       "      <td>Chicago Bulls</td>\n",
       "      <td>0.25</td>\n",
       "    </tr>\n",
       "    <tr>\n",
       "      <th>12</th>\n",
       "      <td>Los Angeles Lakers</td>\n",
       "      <td>0.25</td>\n",
       "    </tr>\n",
       "    <tr>\n",
       "      <th>13</th>\n",
       "      <td>New Orleans Pelicans</td>\n",
       "      <td>0.20</td>\n",
       "    </tr>\n",
       "    <tr>\n",
       "      <th>14</th>\n",
       "      <td>Miami Heat</td>\n",
       "      <td>0.20</td>\n",
       "    </tr>\n",
       "    <tr>\n",
       "      <th>15</th>\n",
       "      <td>Memphis Grizzlies</td>\n",
       "      <td>0.15</td>\n",
       "    </tr>\n",
       "    <tr>\n",
       "      <th>16</th>\n",
       "      <td>Indiana Pacers</td>\n",
       "      <td>0.15</td>\n",
       "    </tr>\n",
       "    <tr>\n",
       "      <th>17</th>\n",
       "      <td>Minnesota Timberwolves</td>\n",
       "      <td>0.15</td>\n",
       "    </tr>\n",
       "    <tr>\n",
       "      <th>18</th>\n",
       "      <td>Golden State Warriors</td>\n",
       "      <td>0.15</td>\n",
       "    </tr>\n",
       "    <tr>\n",
       "      <th>19</th>\n",
       "      <td>Orlando Magic</td>\n",
       "      <td>0.15</td>\n",
       "    </tr>\n",
       "    <tr>\n",
       "      <th>20</th>\n",
       "      <td>Atlanta Hawks</td>\n",
       "      <td>0.15</td>\n",
       "    </tr>\n",
       "    <tr>\n",
       "      <th>21</th>\n",
       "      <td>Oklahoma City Thunder</td>\n",
       "      <td>0.10</td>\n",
       "    </tr>\n",
       "    <tr>\n",
       "      <th>22</th>\n",
       "      <td>San Antonio Spurs</td>\n",
       "      <td>0.10</td>\n",
       "    </tr>\n",
       "    <tr>\n",
       "      <th>23</th>\n",
       "      <td>Utah Jazz</td>\n",
       "      <td>0.10</td>\n",
       "    </tr>\n",
       "    <tr>\n",
       "      <th>24</th>\n",
       "      <td>Houston Rockets</td>\n",
       "      <td>0.05</td>\n",
       "    </tr>\n",
       "    <tr>\n",
       "      <th>25</th>\n",
       "      <td>Philadelphia 76ers</td>\n",
       "      <td>0.05</td>\n",
       "    </tr>\n",
       "    <tr>\n",
       "      <th>26</th>\n",
       "      <td>Denver Nuggets</td>\n",
       "      <td>0.05</td>\n",
       "    </tr>\n",
       "    <tr>\n",
       "      <th>27</th>\n",
       "      <td>Dallas Mavericks</td>\n",
       "      <td>0.05</td>\n",
       "    </tr>\n",
       "    <tr>\n",
       "      <th>28</th>\n",
       "      <td>Charlotte Hornets</td>\n",
       "      <td>0.05</td>\n",
       "    </tr>\n",
       "    <tr>\n",
       "      <th>29</th>\n",
       "      <td>Detroit Pistons</td>\n",
       "      <td>0.00</td>\n",
       "    </tr>\n",
       "  </tbody>\n",
       "</table>\n",
       "</div>"
      ],
      "text/plain": [
       "                      Team  Playoff\n",
       "0      Cleveland Cavaliers     0.85\n",
       "1           Boston Celtics     0.45\n",
       "2   Portland Trail Blazers     0.45\n",
       "3          New York Knicks     0.45\n",
       "4          Milwaukee Bucks     0.40\n",
       "5     Los Angeles Clippers     0.40\n",
       "6             Phoenix Suns     0.35\n",
       "7          Toronto Raptors     0.30\n",
       "8         Sacramento Kings     0.30\n",
       "9       Washington Wizards     0.25\n",
       "10           Brooklyn Nets     0.25\n",
       "11           Chicago Bulls     0.25\n",
       "12      Los Angeles Lakers     0.25\n",
       "13    New Orleans Pelicans     0.20\n",
       "14              Miami Heat     0.20\n",
       "15       Memphis Grizzlies     0.15\n",
       "16          Indiana Pacers     0.15\n",
       "17  Minnesota Timberwolves     0.15\n",
       "18   Golden State Warriors     0.15\n",
       "19           Orlando Magic     0.15\n",
       "20           Atlanta Hawks     0.15\n",
       "21   Oklahoma City Thunder     0.10\n",
       "22       San Antonio Spurs     0.10\n",
       "23               Utah Jazz     0.10\n",
       "24         Houston Rockets     0.05\n",
       "25      Philadelphia 76ers     0.05\n",
       "26          Denver Nuggets     0.05\n",
       "27        Dallas Mavericks     0.05\n",
       "28       Charlotte Hornets     0.05\n",
       "29         Detroit Pistons     0.00"
      ]
     },
     "execution_count": 9,
     "metadata": {},
     "output_type": "execute_result"
    }
   ],
   "source": [
    "# convert teams to a 2D dataframe with a single column\n",
    "teams_df = pd.DataFrame({'Team': teams})\n",
    "\n",
    "# match outcome with team, place in descending order\n",
    "outcome = pd.concat([teams_df, pd.DataFrame(y_pred, columns=['Playoff'])], axis=1)\n",
    "outcome.sort_values('Playoff', ascending=False, inplace=True, ignore_index=True)\n",
    "outcome"
   ]
  },
  {
   "cell_type": "markdown",
   "id": "ee8d15ef",
   "metadata": {},
   "source": [
    "# Random Forest Model"
   ]
  },
  {
   "cell_type": "markdown",
   "id": "58998f18",
   "metadata": {},
   "source": [
    "### Split all the data using every attribute"
   ]
  },
  {
   "cell_type": "code",
   "execution_count": 10,
   "id": "0673ae8f",
   "metadata": {},
   "outputs": [],
   "source": [
    "# split the data using all features\n",
    "features = all_df[all_df.columns[1:-2]]\n",
    "target = all_df[['Playoff']]\n",
    "\n",
    "X = features  # get the input features\n",
    "y = target  # get the target\n",
    "\n",
    "X_train, X_test, y_train, y_test = train_test_split(X,  # the input features\n",
    "                                                    y,  # the label\n",
    "                                                    test_size=0.3,  # set aside 30% of the data as the test set\n",
    "                                                    random_state=7  # reproduce the results\n",
    "                                                     )"
   ]
  },
  {
   "cell_type": "markdown",
   "id": "6904749d",
   "metadata": {},
   "source": [
    "### Hyperparameter tuning\n",
    "Determine what number of bins makes the model work best"
   ]
  },
  {
   "cell_type": "code",
   "execution_count": 11,
   "id": "a117bc87",
   "metadata": {},
   "outputs": [
    {
     "data": {
      "image/png": "[encoded data removed]",
      "text/plain": [
       "<Figure size 432x288 with 1 Axes>"
      ]
     },
     "metadata": {
      "needs_background": "light"
     },
     "output_type": "display_data"
    }
   ],
   "source": [
    "predictions = {}\n",
    "\n",
    "# test n_estimators [50, 100, 150, 200, 250]\n",
    "for n in range(50, 300, 50):\n",
    "    # build model\n",
    "    rf = RandomForestRegressor(random_state=7, n_estimators=n)\n",
    "    rf.fit(X_train, y_train)\n",
    "    \n",
    "    #predict the labels for the test set\n",
    "    y_pred   = rf.predict(X_test)\n",
    "    \n",
    "    # calculate mse and store \n",
    "    mse = mean_squared_error(y_test, y_pred)\n",
    "    predictions[n] = mse\n",
    "\n",
    "# Plot mse\n",
    "sns.lineplot(x=predictions.keys(), y=predictions.values())\n",
    "plt.title('MSE vs. Number of Bins')\n",
    "plt.xlabel('Number of Bins')\n",
    "plt.ylabel('MSE')\n",
    "plt.show()      "
   ]
  },
  {
   "cell_type": "markdown",
   "id": "ffe4a648",
   "metadata": {},
   "source": [
    "### Create model with best number of bins (using every attribute)"
   ]
  },
  {
   "cell_type": "code",
   "execution_count": 12,
   "id": "7b71e7d5",
   "metadata": {},
   "outputs": [
    {
     "name": "stdout",
     "output_type": "stream",
     "text": [
      "The mse of the model is: 0.027625047483380818\n"
     ]
    }
   ],
   "source": [
    "# make random forest regressor model with all features\n",
    "rf = RandomForestRegressor(random_state=7, n_estimators=150)\n",
    "rf.fit(X_train, y_train)\n",
    "\n",
    "# predict the labels for the test set\n",
    "y_pred = rf.predict(X_test)\n",
    "mse = mean_squared_error(y_test, y_pred)\n",
    "\n",
    "# Evaluate the Predictions\n",
    "print('The mse of the model is: {}'.format(mse))"
   ]
  },
  {
   "cell_type": "markdown",
   "id": "12b48f98",
   "metadata": {},
   "source": [
    "### Determine feature importance"
   ]
  },
  {
   "cell_type": "code",
   "execution_count": 13,
   "id": "19bffd8f",
   "metadata": {},
   "outputs": [
    {
     "data": {
      "text/html": [
       "<div>\n",
       "<style scoped>\n",
       "    .dataframe tbody tr th:only-of-type {\n",
       "        vertical-align: middle;\n",
       "    }\n",
       "\n",
       "    .dataframe tbody tr th {\n",
       "        vertical-align: top;\n",
       "    }\n",
       "\n",
       "    .dataframe thead th {\n",
       "        text-align: right;\n",
       "    }\n",
       "</style>\n",
       "<table border=\"1\" class=\"dataframe\">\n",
       "  <thead>\n",
       "    <tr style=\"text-align: right;\">\n",
       "      <th></th>\n",
       "      <th>stat</th>\n",
       "      <th>value</th>\n",
       "    </tr>\n",
       "  </thead>\n",
       "  <tbody>\n",
       "    <tr>\n",
       "      <th>33</th>\n",
       "      <td>win_perc</td>\n",
       "      <td>0.654893</td>\n",
       "    </tr>\n",
       "    <tr>\n",
       "      <th>14</th>\n",
       "      <td>PL</td>\n",
       "      <td>0.028755</td>\n",
       "    </tr>\n",
       "    <tr>\n",
       "      <th>15</th>\n",
       "      <td>MOV</td>\n",
       "      <td>0.028665</td>\n",
       "    </tr>\n",
       "    <tr>\n",
       "      <th>16</th>\n",
       "      <td>SOS</td>\n",
       "      <td>0.028402</td>\n",
       "    </tr>\n",
       "    <tr>\n",
       "      <th>20</th>\n",
       "      <td>NRtg</td>\n",
       "      <td>0.019053</td>\n",
       "    </tr>\n",
       "  </tbody>\n",
       "</table>\n",
       "</div>"
      ],
      "text/plain": [
       "        stat     value\n",
       "33  win_perc  0.654893\n",
       "14        PL  0.028755\n",
       "15       MOV  0.028665\n",
       "16       SOS  0.028402\n",
       "20      NRtg  0.019053"
      ]
     },
     "execution_count": 13,
     "metadata": {},
     "output_type": "execute_result"
    }
   ],
   "source": [
    "# Determine feature importance, identify features\n",
    "importances = pd.DataFrame({'stat': features.columns,\n",
    "                            'value': rf.feature_importances_})\n",
    "importances.sort_values('value', ascending=False, inplace=True)\n",
    "importances.head()"
   ]
  },
  {
   "cell_type": "markdown",
   "id": "5fc91d18",
   "metadata": {},
   "source": [
    "### Make model using top attributes from past model"
   ]
  },
  {
   "cell_type": "code",
   "execution_count": 14,
   "id": "becf6377",
   "metadata": {},
   "outputs": [],
   "source": [
    "# split the data with top 10 features\n",
    "features = all_df[importances.loc[:11, 'stat']]\n",
    "target = all_df[['Playoff']]\n",
    "\n",
    "X = features  # get the input features\n",
    "y = target  # get the target\n",
    "\n",
    "X_train, X_test, y_train, y_test = train_test_split(X,  # the input features\n",
    "                                                    y,  # the label\n",
    "                                                    test_size=0.3,  # set aside 30% of the data as the test set\n",
    "                                                    random_state=7  # reproduce the results\n",
    "                                                     )"
   ]
  },
  {
   "cell_type": "markdown",
   "id": "cdb73fd7",
   "metadata": {},
   "source": [
    "### Hyperparameter tuning\n",
    "Determine what number of bins makes the model work best"
   ]
  },
  {
   "cell_type": "code",
   "execution_count": 15,
   "id": "a48b24b8",
   "metadata": {},
   "outputs": [
    {
     "data": {
      "image/png": "[encoded data removed]",
      "text/plain": [
       "<Figure size 432x288 with 1 Axes>"
      ]
     },
     "metadata": {
      "needs_background": "light"
     },
     "output_type": "display_data"
    }
   ],
   "source": [
    "predictions = {}\n",
    "\n",
    "# test n_estimators [50, 100, 150, 200, 250]\n",
    "for n in range(50, 300, 50):\n",
    "    # build model\n",
    "    rf = RandomForestRegressor(random_state=7, n_estimators=n)\n",
    "    rf.fit(X_train, y_train)\n",
    "    \n",
    "    #predict the labels for the test set\n",
    "    y_pred   = rf.predict(X_test)\n",
    "    \n",
    "    # calculate mse and store \n",
    "    mse = mean_squared_error(y_test, y_pred)\n",
    "    predictions[n] = mse\n",
    "\n",
    "# Plot mse\n",
    "sns.lineplot(x=predictions.keys(), y=predictions.values())\n",
    "plt.title('MSE vs. Number of Bins')\n",
    "plt.xlabel('Number of Bins')\n",
    "plt.ylabel('MSE')\n",
    "plt.show()       "
   ]
  },
  {
   "cell_type": "markdown",
   "id": "e82227f9",
   "metadata": {},
   "source": [
    "### Create model with best number of bins (using top 10 attributes)"
   ]
  },
  {
   "cell_type": "code",
   "execution_count": 16,
   "id": "e7c6541d",
   "metadata": {},
   "outputs": [
    {
     "name": "stdout",
     "output_type": "stream",
     "text": [
      "The mse of the model is: 0.028033072174738837\n"
     ]
    }
   ],
   "source": [
    "# make random forest regressor model with top 10 features\n",
    "rf = RandomForestRegressor(random_state=7, n_estimators=150)\n",
    "rf.fit(X_train, y_train)\n",
    "\n",
    "# predict the labels for the test set\n",
    "y_pred = rf.predict(X_test)\n",
    "mse = mean_squared_error(y_test, y_pred)\n",
    "\n",
    "# Evaluate the Predictions\n",
    "print('The mse of the model is: {}'.format(mse))"
   ]
  },
  {
   "cell_type": "markdown",
   "id": "c0d7a187",
   "metadata": {},
   "source": [
    "### Results\n",
    "This model performs slightly worse than the model using all the attributes (higher MSE)."
   ]
  },
  {
   "cell_type": "markdown",
   "id": "cc92b44a",
   "metadata": {},
   "source": [
    "### Use the model to predict the outcome of the Playoffs using the current teams"
   ]
  },
  {
   "cell_type": "code",
   "execution_count": 17,
   "id": "0461c506",
   "metadata": {},
   "outputs": [],
   "source": [
    "# split the data using all features\n",
    "features = all_df[all_df.columns[1:-2]]\n",
    "target = all_df[['Playoff']]\n",
    "\n",
    "X = features  # get the input features\n",
    "y = target  # get the target\n",
    "\n",
    "X_train, X_test, y_train, y_test = train_test_split(X,  # the input features\n",
    "                                                    y,  # the label\n",
    "                                                    test_size=0.3,  # set aside 30% of the data as the test set\n",
    "                                                    random_state=7  # reproduce the results\n",
    "                                                     )"
   ]
  },
  {
   "cell_type": "code",
   "execution_count": 18,
   "id": "15e61bb7",
   "metadata": {},
   "outputs": [],
   "source": [
    "# make random forest regressor model with all features\n",
    "rf = RandomForestRegressor(random_state=7, n_estimators=150)\n",
    "rf.fit(X_train, y_train)\n",
    "\n",
    "# predict the labels for the 2023 teams\n",
    "df_23_new = copy.deepcopy(df_23)\n",
    "teams = df_23.loc[:, 'Team']\n",
    "\n",
    "df_23_new.drop(['Team', 'Year'], axis=1, inplace=True)\n",
    "y_pred = rf.predict(df_23_new)"
   ]
  },
  {
   "cell_type": "code",
   "execution_count": 19,
   "id": "edc1b2eb",
   "metadata": {},
   "outputs": [
    {
     "data": {
      "text/html": [
       "<div>\n",
       "<style scoped>\n",
       "    .dataframe tbody tr th:only-of-type {\n",
       "        vertical-align: middle;\n",
       "    }\n",
       "\n",
       "    .dataframe tbody tr th {\n",
       "        vertical-align: top;\n",
       "    }\n",
       "\n",
       "    .dataframe thead th {\n",
       "        text-align: right;\n",
       "    }\n",
       "</style>\n",
       "<table border=\"1\" class=\"dataframe\">\n",
       "  <thead>\n",
       "    <tr style=\"text-align: right;\">\n",
       "      <th></th>\n",
       "      <th>Team</th>\n",
       "      <th>Playoff</th>\n",
       "    </tr>\n",
       "  </thead>\n",
       "  <tbody>\n",
       "    <tr>\n",
       "      <th>0</th>\n",
       "      <td>Milwaukee Bucks</td>\n",
       "      <td>0.703333</td>\n",
       "    </tr>\n",
       "    <tr>\n",
       "      <th>1</th>\n",
       "      <td>Denver Nuggets</td>\n",
       "      <td>0.701667</td>\n",
       "    </tr>\n",
       "    <tr>\n",
       "      <th>2</th>\n",
       "      <td>Boston Celtics</td>\n",
       "      <td>0.675000</td>\n",
       "    </tr>\n",
       "    <tr>\n",
       "      <th>3</th>\n",
       "      <td>Philadelphia 76ers</td>\n",
       "      <td>0.633333</td>\n",
       "    </tr>\n",
       "    <tr>\n",
       "      <th>4</th>\n",
       "      <td>Cleveland Cavaliers</td>\n",
       "      <td>0.631667</td>\n",
       "    </tr>\n",
       "    <tr>\n",
       "      <th>5</th>\n",
       "      <td>Memphis Grizzlies</td>\n",
       "      <td>0.540000</td>\n",
       "    </tr>\n",
       "    <tr>\n",
       "      <th>6</th>\n",
       "      <td>Sacramento Kings</td>\n",
       "      <td>0.516667</td>\n",
       "    </tr>\n",
       "    <tr>\n",
       "      <th>7</th>\n",
       "      <td>Los Angeles Clippers</td>\n",
       "      <td>0.356667</td>\n",
       "    </tr>\n",
       "    <tr>\n",
       "      <th>8</th>\n",
       "      <td>Brooklyn Nets</td>\n",
       "      <td>0.350000</td>\n",
       "    </tr>\n",
       "    <tr>\n",
       "      <th>9</th>\n",
       "      <td>New York Knicks</td>\n",
       "      <td>0.325000</td>\n",
       "    </tr>\n",
       "    <tr>\n",
       "      <th>10</th>\n",
       "      <td>Golden State Warriors</td>\n",
       "      <td>0.308333</td>\n",
       "    </tr>\n",
       "    <tr>\n",
       "      <th>11</th>\n",
       "      <td>Miami Heat</td>\n",
       "      <td>0.296667</td>\n",
       "    </tr>\n",
       "    <tr>\n",
       "      <th>12</th>\n",
       "      <td>Phoenix Suns</td>\n",
       "      <td>0.238333</td>\n",
       "    </tr>\n",
       "    <tr>\n",
       "      <th>13</th>\n",
       "      <td>Los Angeles Lakers</td>\n",
       "      <td>0.193333</td>\n",
       "    </tr>\n",
       "    <tr>\n",
       "      <th>14</th>\n",
       "      <td>New Orleans Pelicans</td>\n",
       "      <td>0.173333</td>\n",
       "    </tr>\n",
       "    <tr>\n",
       "      <th>15</th>\n",
       "      <td>Minnesota Timberwolves</td>\n",
       "      <td>0.146667</td>\n",
       "    </tr>\n",
       "    <tr>\n",
       "      <th>16</th>\n",
       "      <td>Atlanta Hawks</td>\n",
       "      <td>0.145000</td>\n",
       "    </tr>\n",
       "    <tr>\n",
       "      <th>17</th>\n",
       "      <td>Dallas Mavericks</td>\n",
       "      <td>0.138333</td>\n",
       "    </tr>\n",
       "    <tr>\n",
       "      <th>18</th>\n",
       "      <td>Toronto Raptors</td>\n",
       "      <td>0.138333</td>\n",
       "    </tr>\n",
       "    <tr>\n",
       "      <th>19</th>\n",
       "      <td>Oklahoma City Thunder</td>\n",
       "      <td>0.106667</td>\n",
       "    </tr>\n",
       "    <tr>\n",
       "      <th>20</th>\n",
       "      <td>Chicago Bulls</td>\n",
       "      <td>0.098333</td>\n",
       "    </tr>\n",
       "    <tr>\n",
       "      <th>21</th>\n",
       "      <td>Utah Jazz</td>\n",
       "      <td>0.086667</td>\n",
       "    </tr>\n",
       "    <tr>\n",
       "      <th>22</th>\n",
       "      <td>Washington Wizards</td>\n",
       "      <td>0.036667</td>\n",
       "    </tr>\n",
       "    <tr>\n",
       "      <th>23</th>\n",
       "      <td>Indiana Pacers</td>\n",
       "      <td>0.031667</td>\n",
       "    </tr>\n",
       "    <tr>\n",
       "      <th>24</th>\n",
       "      <td>Portland Trail Blazers</td>\n",
       "      <td>0.031667</td>\n",
       "    </tr>\n",
       "    <tr>\n",
       "      <th>25</th>\n",
       "      <td>San Antonio Spurs</td>\n",
       "      <td>0.016667</td>\n",
       "    </tr>\n",
       "    <tr>\n",
       "      <th>26</th>\n",
       "      <td>Houston Rockets</td>\n",
       "      <td>0.010000</td>\n",
       "    </tr>\n",
       "    <tr>\n",
       "      <th>27</th>\n",
       "      <td>Orlando Magic</td>\n",
       "      <td>0.005000</td>\n",
       "    </tr>\n",
       "    <tr>\n",
       "      <th>28</th>\n",
       "      <td>Detroit Pistons</td>\n",
       "      <td>0.003333</td>\n",
       "    </tr>\n",
       "    <tr>\n",
       "      <th>29</th>\n",
       "      <td>Charlotte Hornets</td>\n",
       "      <td>0.000000</td>\n",
       "    </tr>\n",
       "  </tbody>\n",
       "</table>\n",
       "</div>"
      ],
      "text/plain": [
       "                      Team   Playoff\n",
       "0          Milwaukee Bucks  0.703333\n",
       "1           Denver Nuggets  0.701667\n",
       "2           Boston Celtics  0.675000\n",
       "3       Philadelphia 76ers  0.633333\n",
       "4      Cleveland Cavaliers  0.631667\n",
       "5        Memphis Grizzlies  0.540000\n",
       "6         Sacramento Kings  0.516667\n",
       "7     Los Angeles Clippers  0.356667\n",
       "8            Brooklyn Nets  0.350000\n",
       "9          New York Knicks  0.325000\n",
       "10   Golden State Warriors  0.308333\n",
       "11              Miami Heat  0.296667\n",
       "12            Phoenix Suns  0.238333\n",
       "13      Los Angeles Lakers  0.193333\n",
       "14    New Orleans Pelicans  0.173333\n",
       "15  Minnesota Timberwolves  0.146667\n",
       "16           Atlanta Hawks  0.145000\n",
       "17        Dallas Mavericks  0.138333\n",
       "18         Toronto Raptors  0.138333\n",
       "19   Oklahoma City Thunder  0.106667\n",
       "20           Chicago Bulls  0.098333\n",
       "21               Utah Jazz  0.086667\n",
       "22      Washington Wizards  0.036667\n",
       "23          Indiana Pacers  0.031667\n",
       "24  Portland Trail Blazers  0.031667\n",
       "25       San Antonio Spurs  0.016667\n",
       "26         Houston Rockets  0.010000\n",
       "27           Orlando Magic  0.005000\n",
       "28         Detroit Pistons  0.003333\n",
       "29       Charlotte Hornets  0.000000"
      ]
     },
     "execution_count": 19,
     "metadata": {},
     "output_type": "execute_result"
    }
   ],
   "source": [
    "# match outcome with team, place in descending order\n",
    "outcome = pd.DataFrame({'Team': teams,\n",
    "                        'Playoff': y_pred})\n",
    "outcome.sort_values('Playoff', ascending=False, inplace=True, ignore_index=True)\n",
    "outcome"
   ]
  },
  {
   "cell_type": "markdown",
   "id": "3d8a909a",
   "metadata": {},
   "source": [
    "# Linear Regression Model"
   ]
  },
  {
   "cell_type": "markdown",
   "id": "8fd0ccbf",
   "metadata": {},
   "source": [
    "Split the data and create the regression"
   ]
  },
  {
   "cell_type": "code",
   "execution_count": 20,
   "id": "e4b16a2f",
   "metadata": {},
   "outputs": [
    {
     "data": {
      "text/plain": [
       "LinearRegression()"
      ]
     },
     "execution_count": 20,
     "metadata": {},
     "output_type": "execute_result"
    }
   ],
   "source": [
    "# get target variable\n",
    "X_train = all_df[all_df.columns[1:-2]]  # all data except team, year, and playoff\n",
    "y_train = all_df[['Playoff']]\n",
    "\n",
    "# create the regression and fit it with the data\n",
    "reg = LinearRegression()\n",
    "reg.fit(X_train, y_train)"
   ]
  },
  {
   "cell_type": "code",
   "execution_count": 21,
   "id": "8b1bd230",
   "metadata": {},
   "outputs": [
    {
     "name": "stdout",
     "output_type": "stream",
     "text": [
      "             Label  Coefficient\n",
      "0      fga_perc_2P   100.043844\n",
      "1             3PAr    57.997617\n",
      "2      fga_perc_3P    57.997617\n",
      "3   fga_perc_10-16    22.488994\n",
      "4    fga_perc_3-10    21.232004\n",
      "5   fga_perc_16-3P    21.144929\n",
      "6     fga_perc_0-3    20.600221\n",
      "7         off_eFG%    16.659959\n",
      "8       dunks_%FGA    14.493047\n",
      "9         def_eFG%    12.067231\n",
      "10             TS%     7.858344\n",
      "11      fg_perc_2P     2.714960\n",
      "12             MOV     2.469172\n",
      "13             SOS     2.394694\n",
      "14      def_FT/FGA     1.956184\n",
      "15        win_perc     1.895515\n",
      "16        off_TOV%     0.561913\n",
      "17             FT%     0.552078\n",
      "18     corner_%3PA     0.457436\n",
      "19             TRB     0.239624\n",
      "20             AST     0.057424\n",
      "21             FTA     0.052584\n",
      "22           Dist.     0.041684\n",
      "23             STL     0.034538\n",
      "24             BLK     0.027648\n",
      "25            NRtg     0.027291\n",
      "26              PW     0.009856\n",
      "27              PF     0.005736\n",
      "28       heave_Md.     0.004787\n",
      "29              PL     0.003921\n",
      "30      layups_Md.     0.000520\n",
      "31            Pace    -0.000118\n",
      "32      heave_Att.    -0.001881\n",
      "33       dunks_Md.    -0.002383\n",
      "34              FT    -0.003356\n",
      "35             Age    -0.006771\n",
      "36      corner_3P%    -0.007750\n",
      "37            ORtg    -0.010533\n",
      "38             PTS    -0.010533\n",
      "39        off_ORB%    -0.025474\n",
      "40            DRtg    -0.037824\n",
      "41          def_DR    -0.039409\n",
      "42   fg_perc_16-3P    -0.067764\n",
      "43        def_TOV%    -0.102690\n",
      "44             ORB    -0.161833\n",
      "45             DRB    -0.205334\n",
      "46             TOV    -0.414585\n",
      "47     fg_perc_0-3    -0.904952\n",
      "48   fg_perc_10-16    -0.917369\n",
      "49  fg_ast_perc_3P    -1.144328\n",
      "50      off_FT/FGA    -1.162019\n",
      "51    fg_perc_3-10    -1.230394\n",
      "52  fg_ast_perc_2P    -1.731566\n",
      "53     layups_%FGA    -1.815362\n",
      "54             SRS    -2.504041\n",
      "55             FTr    -3.450185\n",
      "56      fg_perc_3P    -4.415858\n",
      "57             FG%   -25.205890\n"
     ]
    }
   ],
   "source": [
    "# find the most impactful variables\n",
    "coef = reg.coef_.tolist()[0]\n",
    "variables = list(X_train.columns)\n",
    "equation = pd.DataFrame({'Label': variables,\n",
    "                         'Coefficient': coef})\n",
    "equation.sort_values('Coefficient', ascending=False, inplace=True, ignore_index=True)\n",
    "print(equation)"
   ]
  },
  {
   "cell_type": "code",
   "execution_count": 22,
   "id": "7649b63b",
   "metadata": {},
   "outputs": [
    {
     "name": "stdout",
     "output_type": "stream",
     "text": [
      "\n",
      "The R-Squared is: 0.70766\n"
     ]
    }
   ],
   "source": [
    "# calculate and display the r-squared value\n",
    "r_sq = round(reg.score(X_train, y_train), 5)\n",
    "print('\\nThe R-Squared is:', r_sq)"
   ]
  },
  {
   "cell_type": "code",
   "execution_count": 23,
   "id": "51529a73",
   "metadata": {},
   "outputs": [
    {
     "name": "stdout",
     "output_type": "stream",
     "text": [
      "                      Team                 Playoff\n",
      "0       Philadelphia 76ers    [0.6829325603739989]\n",
      "1          Milwaukee Bucks    [0.6579364099926153]\n",
      "2           Boston Celtics    [0.6398766345104718]\n",
      "3           Denver Nuggets    [0.5609501217847139]\n",
      "4            Brooklyn Nets    [0.5070675406532388]\n",
      "5         Sacramento Kings   [0.42888018169327324]\n",
      "6     Los Angeles Clippers     [0.394160159959867]\n",
      "7        Memphis Grizzlies    [0.3828956720235652]\n",
      "8   Minnesota Timberwolves   [0.37771387644505694]\n",
      "9             Phoenix Suns   [0.36911283973853415]\n",
      "10   Golden State Warriors   [0.36761946474531726]\n",
      "11     Cleveland Cavaliers   [0.35640991546296164]\n",
      "12           Chicago Bulls   [0.29980168793055384]\n",
      "13              Miami Heat   [0.29348295871660923]\n",
      "14      Los Angeles Lakers    [0.2568247811471025]\n",
      "15         New York Knicks   [0.23476363969734848]\n",
      "16  Portland Trail Blazers   [0.20641626130054647]\n",
      "17          Indiana Pacers   [0.20582612427256208]\n",
      "18    New Orleans Pelicans   [0.18222389478492573]\n",
      "19               Utah Jazz    [0.1787718821301496]\n",
      "20           Atlanta Hawks   [0.17848975381085097]\n",
      "21      Washington Wizards    [0.1487980266915656]\n",
      "22           Orlando Magic   [0.14672549922559597]\n",
      "23        Dallas Mavericks   [0.14435132343720625]\n",
      "24   Oklahoma City Thunder   [0.13457972899867343]\n",
      "25         Toronto Raptors   [0.11978728982357723]\n",
      "26       San Antonio Spurs  [-0.03894359849407181]\n",
      "27         Houston Rockets  [-0.06736032782258405]\n",
      "28       Charlotte Hornets   [-0.1623743451193178]\n",
      "29         Detroit Pistons   [-0.2086165587699753]\n"
     ]
    }
   ],
   "source": [
    "# run the regression on the data for this year\n",
    "X_test = df_23[df_23.columns[1:-1]]\n",
    "y_pred = reg.predict(X_test)\n",
    "\n",
    "# assign the predictions to the teams and sort\n",
    "teams = list(df_23.loc[:, 'Team'])\n",
    "playoff = y_pred.tolist()\n",
    "predictions = pd.DataFrame({'Team': teams,\n",
    "                            'Playoff': playoff})\n",
    "predictions.sort_values('Playoff', ascending=False, inplace=True, ignore_index=True)\n",
    "\n",
    "print(predictions)"
   ]
  }
 ],
 "metadata": {
  "kernelspec": {
   "display_name": "Python 3 (ipykernel)",
   "language": "python",
   "name": "python3"
  },
  "language_info": {
   "codemirror_mode": {
    "name": "ipython",
    "version": 3
   },
   "file_extension": ".py",
   "mimetype": "text/x-python",
   "name": "python",
   "nbconvert_exporter": "python",
   "pygments_lexer": "ipython3",
   "version": "3.8.12"
  }
 },
 "nbformat": 4,
 "nbformat_minor": 5
}
