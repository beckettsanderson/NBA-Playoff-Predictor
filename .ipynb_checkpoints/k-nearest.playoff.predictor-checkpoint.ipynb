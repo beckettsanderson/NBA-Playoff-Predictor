{
 "cells": [
  {
   "cell_type": "markdown",
   "id": "c196dacc",
   "metadata": {},
   "source": [
    "# k-Nearest Neighbors\n",
    "\n",
    "NBA Playoff Predictor"
   ]
  },
  {
   "cell_type": "code",
   "execution_count": 150,
   "id": "76493d85",
   "metadata": {},
   "outputs": [],
   "source": [
    "\n",
    "import matplotlib.pyplot as plt\n",
    "from sklearn.model_selection import train_test_split\n",
    "from sklearn.neighbors import KNeighborsRegressor\n",
    "import warnings\n",
    "warnings.simplefilter(action='ignore', category=FutureWarning)\n",
    "from sklearn.metrics import mean_squared_error\n",
    "import copy"
   ]
  },
  {
   "cell_type": "markdown",
   "id": "bcdc2576",
   "metadata": {},
   "source": [
    "Read all data necessary"
   ]
  },
  {
   "cell_type": "code",
   "execution_count": 151,
   "id": "5ea6a820",
   "metadata": {},
   "outputs": [],
   "source": [
    "df_23 = pd.read_csv('2023_data.csv')\n",
    "all_df = pd.read_csv('seasons_data.csv')\n",
    "df_combine = pd.concat([all_df, df_23], ignore_index=True)"
   ]
  },
  {
   "cell_type": "code",
   "execution_count": 152,
   "id": "c894838a",
   "metadata": {},
   "outputs": [],
   "source": [
    "# drop minutes played and attendance per game\n",
    "all_df.drop(['MP', 'Attend./G'], axis=1, inplace=True)\n",
    "df_23.drop(['MP', 'Attend./G'], axis=1, inplace=True)\n"
   ]
  },
  {
   "cell_type": "markdown",
   "id": "b1c7ef60",
   "metadata": {},
   "source": [
    "# Make model using all Features"
   ]
  },
  {
   "cell_type": "code",
   "execution_count": 153,
   "id": "1043fa27",
   "metadata": {},
   "outputs": [],
   "source": [
    "#split the data into training and test sets\n",
    "X_train, X_test, y_train, y_test = train_test_split(X,              \n",
    "                                                    y,              \n",
    "                                                    test_size=0.3,  \n",
    "                                                    random_state=7, \n",
    "                                                    stratify=y      \n",
    "                                                   )"
   ]
  },
  {
   "cell_type": "markdown",
   "id": "229f68ef",
   "metadata": {},
   "source": [
    "See which k value gets the highest accuracy"
   ]
  },
  {
   "cell_type": "code",
   "execution_count": 154,
   "id": "36de08e8",
   "metadata": {},
   "outputs": [
    {
     "data": {
      "image/png": "[encoded data removed]",
      "text/plain": [
       "<Figure size 640x480 with 1 Axes>"
      ]
     },
     "metadata": {},
     "output_type": "display_data"
    }
   ],
   "source": [
    "predictions = {}\n",
    "\n",
    "for k in range(1, 20): #increment k by 2\n",
    "    knn = KNeighborsRegressor(n_neighbors=k)\n",
    "    knn.fit(X_train, y_train)\n",
    "    predictions[k] = knn.score(X_test, y_test)\n",
    "    \n",
    "sns.lineplot(x=predictions.keys(), y=predictions.values())\n",
    "plt.show()\n"
   ]
  },
  {
   "cell_type": "code",
   "execution_count": null,
   "id": "4477a535",
   "metadata": {},
   "outputs": [],
   "source": []
  },
  {
   "cell_type": "code",
   "execution_count": 155,
   "id": "5f2c34a4",
   "metadata": {},
   "outputs": [
    {
     "name": "stdout",
     "output_type": "stream",
     "text": [
      "The accuracy of the model is: 0.30055222560676054\n"
     ]
    }
   ],
   "source": [
    "\n",
    "\n",
    "#Create the model with n_neighbors = 5\n",
    "knn = KNeighborsRegressor(n_neighbors = 5) #initialize the classifier and set the number of neighbors\n",
    "\n",
    "\n",
    "knn.fit(X_train, y_train)\n",
    "print('The accuracy of the model is: {}'.format(knn.score(X_test, y_test)))"
   ]
  },
  {
   "cell_type": "code",
   "execution_count": 156,
   "id": "543ddeb1",
   "metadata": {},
   "outputs": [
    {
     "name": "stdout",
     "output_type": "stream",
     "text": [
      "The mse of the model is: 0.065\n"
     ]
    }
   ],
   "source": [
    "# predict the labels for the test set\n",
    "y_pred = knn.predict(X_test)\n",
    "mse = mean_squared_error(y_test, y_pred)\n",
    "\n",
    "# Evaluate the Predictions\n",
    "print('The mse of the model is: {}'.format(mse))"
   ]
  },
  {
   "cell_type": "markdown",
   "id": "818a8163",
   "metadata": {},
   "source": [
    "# Use the model to predict the current playoffs"
   ]
  },
  {
   "cell_type": "code",
   "execution_count": 157,
   "id": "c0a0aa8b",
   "metadata": {},
   "outputs": [],
   "source": [
    "\n",
    "\n",
    "# predict the labels for the 2023 teams\n",
    "df_23_new = copy.deepcopy(df_23)\n",
    "teams = df_23.loc[:, 'Team']\n",
    "\n",
    "df_23_new.drop(['Team', 'Year'], axis=1, inplace=True)\n",
    "y_pred = knn.predict(df_23_new)"
   ]
  },
  {
   "cell_type": "code",
   "execution_count": 158,
   "id": "2fa38c6a",
   "metadata": {},
   "outputs": [
    {
     "data": {
      "text/html": [
       "<div>\n",
       "<style scoped>\n",
       "    .dataframe tbody tr th:only-of-type {\n",
       "        vertical-align: middle;\n",
       "    }\n",
       "\n",
       "    .dataframe tbody tr th {\n",
       "        vertical-align: top;\n",
       "    }\n",
       "\n",
       "    .dataframe thead th {\n",
       "        text-align: right;\n",
       "    }\n",
       "</style>\n",
       "<table border=\"1\" class=\"dataframe\">\n",
       "  <thead>\n",
       "    <tr style=\"text-align: right;\">\n",
       "      <th></th>\n",
       "      <th>Team</th>\n",
       "      <th>Playoff</th>\n",
       "    </tr>\n",
       "  </thead>\n",
       "  <tbody>\n",
       "    <tr>\n",
       "      <th>0</th>\n",
       "      <td>Sacramento Kings</td>\n",
       "      <td>0.60</td>\n",
       "    </tr>\n",
       "    <tr>\n",
       "      <th>1</th>\n",
       "      <td>New York Knicks</td>\n",
       "      <td>0.55</td>\n",
       "    </tr>\n",
       "    <tr>\n",
       "      <th>2</th>\n",
       "      <td>Los Angeles Clippers</td>\n",
       "      <td>0.45</td>\n",
       "    </tr>\n",
       "    <tr>\n",
       "      <th>3</th>\n",
       "      <td>Cleveland Cavaliers</td>\n",
       "      <td>0.45</td>\n",
       "    </tr>\n",
       "    <tr>\n",
       "      <th>4</th>\n",
       "      <td>New Orleans Pelicans</td>\n",
       "      <td>0.45</td>\n",
       "    </tr>\n",
       "    <tr>\n",
       "      <th>5</th>\n",
       "      <td>Orlando Magic</td>\n",
       "      <td>0.40</td>\n",
       "    </tr>\n",
       "    <tr>\n",
       "      <th>6</th>\n",
       "      <td>Washington Wizards</td>\n",
       "      <td>0.30</td>\n",
       "    </tr>\n",
       "    <tr>\n",
       "      <th>7</th>\n",
       "      <td>Brooklyn Nets</td>\n",
       "      <td>0.30</td>\n",
       "    </tr>\n",
       "    <tr>\n",
       "      <th>8</th>\n",
       "      <td>Milwaukee Bucks</td>\n",
       "      <td>0.30</td>\n",
       "    </tr>\n",
       "    <tr>\n",
       "      <th>9</th>\n",
       "      <td>Memphis Grizzlies</td>\n",
       "      <td>0.30</td>\n",
       "    </tr>\n",
       "    <tr>\n",
       "      <th>10</th>\n",
       "      <td>Boston Celtics</td>\n",
       "      <td>0.25</td>\n",
       "    </tr>\n",
       "    <tr>\n",
       "      <th>11</th>\n",
       "      <td>Atlanta Hawks</td>\n",
       "      <td>0.25</td>\n",
       "    </tr>\n",
       "    <tr>\n",
       "      <th>12</th>\n",
       "      <td>Miami Heat</td>\n",
       "      <td>0.25</td>\n",
       "    </tr>\n",
       "    <tr>\n",
       "      <th>13</th>\n",
       "      <td>Golden State Warriors</td>\n",
       "      <td>0.25</td>\n",
       "    </tr>\n",
       "    <tr>\n",
       "      <th>14</th>\n",
       "      <td>Dallas Mavericks</td>\n",
       "      <td>0.25</td>\n",
       "    </tr>\n",
       "    <tr>\n",
       "      <th>15</th>\n",
       "      <td>Utah Jazz</td>\n",
       "      <td>0.20</td>\n",
       "    </tr>\n",
       "    <tr>\n",
       "      <th>16</th>\n",
       "      <td>Toronto Raptors</td>\n",
       "      <td>0.20</td>\n",
       "    </tr>\n",
       "    <tr>\n",
       "      <th>17</th>\n",
       "      <td>Phoenix Suns</td>\n",
       "      <td>0.20</td>\n",
       "    </tr>\n",
       "    <tr>\n",
       "      <th>18</th>\n",
       "      <td>Los Angeles Lakers</td>\n",
       "      <td>0.15</td>\n",
       "    </tr>\n",
       "    <tr>\n",
       "      <th>19</th>\n",
       "      <td>San Antonio Spurs</td>\n",
       "      <td>0.15</td>\n",
       "    </tr>\n",
       "    <tr>\n",
       "      <th>20</th>\n",
       "      <td>Indiana Pacers</td>\n",
       "      <td>0.15</td>\n",
       "    </tr>\n",
       "    <tr>\n",
       "      <th>21</th>\n",
       "      <td>Oklahoma City Thunder</td>\n",
       "      <td>0.15</td>\n",
       "    </tr>\n",
       "    <tr>\n",
       "      <th>22</th>\n",
       "      <td>Denver Nuggets</td>\n",
       "      <td>0.15</td>\n",
       "    </tr>\n",
       "    <tr>\n",
       "      <th>23</th>\n",
       "      <td>Minnesota Timberwolves</td>\n",
       "      <td>0.15</td>\n",
       "    </tr>\n",
       "    <tr>\n",
       "      <th>24</th>\n",
       "      <td>Portland Trail Blazers</td>\n",
       "      <td>0.10</td>\n",
       "    </tr>\n",
       "    <tr>\n",
       "      <th>25</th>\n",
       "      <td>Charlotte Hornets</td>\n",
       "      <td>0.10</td>\n",
       "    </tr>\n",
       "    <tr>\n",
       "      <th>26</th>\n",
       "      <td>Philadelphia 76ers</td>\n",
       "      <td>0.05</td>\n",
       "    </tr>\n",
       "    <tr>\n",
       "      <th>27</th>\n",
       "      <td>Houston Rockets</td>\n",
       "      <td>0.05</td>\n",
       "    </tr>\n",
       "    <tr>\n",
       "      <th>28</th>\n",
       "      <td>Chicago Bulls</td>\n",
       "      <td>0.05</td>\n",
       "    </tr>\n",
       "    <tr>\n",
       "      <th>29</th>\n",
       "      <td>Detroit Pistons</td>\n",
       "      <td>0.00</td>\n",
       "    </tr>\n",
       "  </tbody>\n",
       "</table>\n",
       "</div>"
      ],
      "text/plain": [
       "                      Team  Playoff\n",
       "0         Sacramento Kings     0.60\n",
       "1          New York Knicks     0.55\n",
       "2     Los Angeles Clippers     0.45\n",
       "3      Cleveland Cavaliers     0.45\n",
       "4     New Orleans Pelicans     0.45\n",
       "5            Orlando Magic     0.40\n",
       "6       Washington Wizards     0.30\n",
       "7            Brooklyn Nets     0.30\n",
       "8          Milwaukee Bucks     0.30\n",
       "9        Memphis Grizzlies     0.30\n",
       "10          Boston Celtics     0.25\n",
       "11           Atlanta Hawks     0.25\n",
       "12              Miami Heat     0.25\n",
       "13   Golden State Warriors     0.25\n",
       "14        Dallas Mavericks     0.25\n",
       "15               Utah Jazz     0.20\n",
       "16         Toronto Raptors     0.20\n",
       "17            Phoenix Suns     0.20\n",
       "18      Los Angeles Lakers     0.15\n",
       "19       San Antonio Spurs     0.15\n",
       "20          Indiana Pacers     0.15\n",
       "21   Oklahoma City Thunder     0.15\n",
       "22          Denver Nuggets     0.15\n",
       "23  Minnesota Timberwolves     0.15\n",
       "24  Portland Trail Blazers     0.10\n",
       "25       Charlotte Hornets     0.10\n",
       "26      Philadelphia 76ers     0.05\n",
       "27         Houston Rockets     0.05\n",
       "28           Chicago Bulls     0.05\n",
       "29         Detroit Pistons     0.00"
      ]
     },
     "execution_count": 158,
     "metadata": {},
     "output_type": "execute_result"
    }
   ],
   "source": [
    "# convert teams to a 2D dataframe with a single column\n",
    "teams_df = pd.DataFrame({'Team': teams})\n",
    "\n",
    "# match outcome with team, place in descending order\n",
    "outcome = pd.concat([teams_df, pd.DataFrame(y_pred, columns=['Playoff'])], axis=1)\n",
    "outcome.sort_values('Playoff', ascending=False, inplace=True, ignore_index=True)\n",
    "outcome"
   ]
  },
  {
   "cell_type": "code",
   "execution_count": null,
   "id": "26087a43",
   "metadata": {},
   "outputs": [],
   "source": []
  }
 ],
 "metadata": {
  "kernelspec": {
   "display_name": "Python 3 (ipykernel)",
   "language": "python",
   "name": "python3"
  },
  "language_info": {
   "codemirror_mode": {
    "name": "ipython",
    "version": 3
   },
   "file_extension": ".py",
   "mimetype": "text/x-python",
   "name": "python",
   "nbconvert_exporter": "python",
   "pygments_lexer": "ipython3",
   "version": "3.9.16"
  }
 },
 "nbformat": 4,
 "nbformat_minor": 5
}
