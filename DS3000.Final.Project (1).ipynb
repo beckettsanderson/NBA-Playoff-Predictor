{
 "cells": [
  {
   "cell_type": "markdown",
   "id": "9f071a5d",
   "metadata": {},
   "source": [
    "# NBA Playoff Predictor Final Project"
   ]
  },
  {
   "cell_type": "markdown",
   "id": "d676ad3f",
   "metadata": {},
   "source": [
    "Beckett Sanderson, Marcos Equiza, Sean Ediger\n",
    "\n",
    "April 2023"
   ]
  },
  {
   "cell_type": "code",
   "execution_count": 18,
   "id": "f5a05e43",
   "metadata": {},
   "outputs": [],
   "source": [
    "import pandas as pd\n",
    "import matplotlib.pyplot as plt\n",
    "import seaborn as sns\n",
    "from sklearn.ensemble import RandomForestRegressor\n",
    "from sklearn.neighbors import KNeighborsRegressor\n",
    "from sklearn.model_selection import train_test_split\n",
    "from sklearn.metrics import mean_squared_error\n",
    "import copy\n",
    "import warnings\n",
    "warnings.simplefilter(action='ignore')"
   ]
  },
  {
   "cell_type": "code",
   "execution_count": 19,
   "id": "9125c9ee",
   "metadata": {},
   "outputs": [],
   "source": [
    "pd.set_option('display.max_columns', None)\n",
    "ALL_SEASONS = \"seasons_data.csv\"\n",
    "CUR_SEASON = \"2023_data.csv\""
   ]
  },
  {
   "cell_type": "markdown",
   "id": "8164f7e6",
   "metadata": {},
   "source": [
    "Reading the Data"
   ]
  },
  {
   "cell_type": "code",
   "execution_count": 20,
   "id": "bb9d62d5",
   "metadata": {},
   "outputs": [],
   "source": [
    "# read in our csv's of data\n",
    "all_df = pd.read_csv(ALL_SEASONS)\n",
    "df_23 = pd.read_csv(CUR_SEASON)\n",
    "\n",
    "\n",
    "# drop minutes played and attendance per game\n",
    "all_df.drop(['MP', 'Attend./G'], axis=1, inplace=True)\n",
    "df_23.drop(['MP', 'Attend./G'], axis=1, inplace=True)"
   ]
  },
  {
   "cell_type": "markdown",
   "id": "038d2621",
   "metadata": {},
   "source": [
    "# Make model using all attributes\n"
   ]
  },
  {
   "cell_type": "code",
   "execution_count": 21,
   "id": "1f7ae4cf",
   "metadata": {},
   "outputs": [],
   "source": [
    "# split the data using all features\n",
    "features = all_df[all_df.columns[1:-2]]\n",
    "target = all_df[['Playoff']]\n",
    "\n",
    "X = features  # get the input features\n",
    "y = target  # get the target\n",
    "\n",
    "X_train, X_test, y_train, y_test = train_test_split(X,  # the input features\n",
    "                                                    y,  # the label\n",
    "                                                    test_size=0.3,  # set aside 30% of the data as the test set\n",
    "                                                    random_state=7  # reproduce the results\n",
    "                                                     )"
   ]
  },
  {
   "cell_type": "markdown",
   "id": "bafd0aec",
   "metadata": {},
   "source": [
    "# K-Nearest Neighbor Model"
   ]
  },
  {
   "cell_type": "markdown",
   "id": "a205dd17",
   "metadata": {},
   "source": [
    "See which k value gets the highest accuracy"
   ]
  },
  {
   "cell_type": "code",
   "execution_count": 22,
   "id": "7527cdcf",
   "metadata": {},
   "outputs": [
    {
     "data": {
      "image/png": "[encoded data removed]",
      "text/plain": [
       "<Figure size 640x480 with 1 Axes>"
      ]
     },
     "metadata": {},
     "output_type": "display_data"
    }
   ],
   "source": [
    "predictions = {}\n",
    "\n",
    "for k in range(1, 20): #increment k by 2\n",
    "    knn = KNeighborsRegressor(n_neighbors=k)\n",
    "    knn.fit(X_train, y_train)\n",
    "    predictions[k] = knn.score(X_test, y_test)\n",
    "    \n",
    "sns.lineplot(x=predictions.keys(), y=predictions.values())\n",
    "plt.show()"
   ]
  },
  {
   "cell_type": "code",
   "execution_count": 23,
   "id": "b8c7b795",
   "metadata": {},
   "outputs": [
    {
     "name": "stdout",
     "output_type": "stream",
     "text": [
      "The accuracy of the model is: 0.27305236803671995\n"
     ]
    }
   ],
   "source": [
    "#Create the model with n_neighbors = 5\n",
    "knn = KNeighborsRegressor(n_neighbors = 5) #initialize the classifier and set the number of neighbors\n",
    "\n",
    "\n",
    "knn.fit(X_train, y_train)\n",
    "print('The accuracy of the model is: {}'.format(knn.score(X_test, y_test)))"
   ]
  },
  {
   "cell_type": "code",
   "execution_count": 24,
   "id": "c72873c7",
   "metadata": {},
   "outputs": [
    {
     "name": "stdout",
     "output_type": "stream",
     "text": [
      "The mse of the model is: 0.06363247863247863\n"
     ]
    }
   ],
   "source": [
    "# predict the labels for the test set\n",
    "y_pred = knn.predict(X_test)\n",
    "mse = mean_squared_error(y_test, y_pred)\n",
    "\n",
    "# Evaluate the Predictions\n",
    "print('The mse of the model is: {}'.format(mse))"
   ]
  },
  {
   "cell_type": "markdown",
   "id": "a4784c08",
   "metadata": {},
   "source": [
    "Use the model to predict the current playoffs"
   ]
  },
  {
   "cell_type": "code",
   "execution_count": 25,
   "id": "c04a4e74",
   "metadata": {},
   "outputs": [],
   "source": [
    "# predict the labels for the 2023 teams\n",
    "df_23_new = copy.deepcopy(df_23)\n",
    "teams = df_23.loc[:, 'Team']\n",
    "\n",
    "df_23_new.drop(['Team', 'Year'], axis=1, inplace=True)\n",
    "y_pred = knn.predict(df_23_new)"
   ]
  },
  {
   "cell_type": "code",
   "execution_count": 26,
   "id": "d00afda1",
   "metadata": {},
   "outputs": [
    {
     "data": {
      "text/html": [
       "<div>\n",
       "<style scoped>\n",
       "    .dataframe tbody tr th:only-of-type {\n",
       "        vertical-align: middle;\n",
       "    }\n",
       "\n",
       "    .dataframe tbody tr th {\n",
       "        vertical-align: top;\n",
       "    }\n",
       "\n",
       "    .dataframe thead th {\n",
       "        text-align: right;\n",
       "    }\n",
       "</style>\n",
       "<table border=\"1\" class=\"dataframe\">\n",
       "  <thead>\n",
       "    <tr style=\"text-align: right;\">\n",
       "      <th></th>\n",
       "      <th>Team</th>\n",
       "      <th>Playoff</th>\n",
       "    </tr>\n",
       "  </thead>\n",
       "  <tbody>\n",
       "    <tr>\n",
       "      <th>0</th>\n",
       "      <td>Cleveland Cavaliers</td>\n",
       "      <td>0.85</td>\n",
       "    </tr>\n",
       "    <tr>\n",
       "      <th>1</th>\n",
       "      <td>Boston Celtics</td>\n",
       "      <td>0.45</td>\n",
       "    </tr>\n",
       "    <tr>\n",
       "      <th>2</th>\n",
       "      <td>Portland Trail Blazers</td>\n",
       "      <td>0.45</td>\n",
       "    </tr>\n",
       "    <tr>\n",
       "      <th>3</th>\n",
       "      <td>New York Knicks</td>\n",
       "      <td>0.45</td>\n",
       "    </tr>\n",
       "    <tr>\n",
       "      <th>4</th>\n",
       "      <td>Milwaukee Bucks</td>\n",
       "      <td>0.40</td>\n",
       "    </tr>\n",
       "    <tr>\n",
       "      <th>5</th>\n",
       "      <td>Los Angeles Clippers</td>\n",
       "      <td>0.40</td>\n",
       "    </tr>\n",
       "    <tr>\n",
       "      <th>6</th>\n",
       "      <td>Phoenix Suns</td>\n",
       "      <td>0.35</td>\n",
       "    </tr>\n",
       "    <tr>\n",
       "      <th>7</th>\n",
       "      <td>Toronto Raptors</td>\n",
       "      <td>0.30</td>\n",
       "    </tr>\n",
       "    <tr>\n",
       "      <th>8</th>\n",
       "      <td>Sacramento Kings</td>\n",
       "      <td>0.30</td>\n",
       "    </tr>\n",
       "    <tr>\n",
       "      <th>9</th>\n",
       "      <td>Washington Wizards</td>\n",
       "      <td>0.25</td>\n",
       "    </tr>\n",
       "    <tr>\n",
       "      <th>10</th>\n",
       "      <td>Brooklyn Nets</td>\n",
       "      <td>0.25</td>\n",
       "    </tr>\n",
       "    <tr>\n",
       "      <th>11</th>\n",
       "      <td>Chicago Bulls</td>\n",
       "      <td>0.25</td>\n",
       "    </tr>\n",
       "    <tr>\n",
       "      <th>12</th>\n",
       "      <td>Los Angeles Lakers</td>\n",
       "      <td>0.25</td>\n",
       "    </tr>\n",
       "    <tr>\n",
       "      <th>13</th>\n",
       "      <td>New Orleans Pelicans</td>\n",
       "      <td>0.20</td>\n",
       "    </tr>\n",
       "    <tr>\n",
       "      <th>14</th>\n",
       "      <td>Miami Heat</td>\n",
       "      <td>0.20</td>\n",
       "    </tr>\n",
       "    <tr>\n",
       "      <th>15</th>\n",
       "      <td>Memphis Grizzlies</td>\n",
       "      <td>0.15</td>\n",
       "    </tr>\n",
       "    <tr>\n",
       "      <th>16</th>\n",
       "      <td>Indiana Pacers</td>\n",
       "      <td>0.15</td>\n",
       "    </tr>\n",
       "    <tr>\n",
       "      <th>17</th>\n",
       "      <td>Minnesota Timberwolves</td>\n",
       "      <td>0.15</td>\n",
       "    </tr>\n",
       "    <tr>\n",
       "      <th>18</th>\n",
       "      <td>Golden State Warriors</td>\n",
       "      <td>0.15</td>\n",
       "    </tr>\n",
       "    <tr>\n",
       "      <th>19</th>\n",
       "      <td>Orlando Magic</td>\n",
       "      <td>0.15</td>\n",
       "    </tr>\n",
       "    <tr>\n",
       "      <th>20</th>\n",
       "      <td>Atlanta Hawks</td>\n",
       "      <td>0.15</td>\n",
       "    </tr>\n",
       "    <tr>\n",
       "      <th>21</th>\n",
       "      <td>Oklahoma City Thunder</td>\n",
       "      <td>0.10</td>\n",
       "    </tr>\n",
       "    <tr>\n",
       "      <th>22</th>\n",
       "      <td>San Antonio Spurs</td>\n",
       "      <td>0.10</td>\n",
       "    </tr>\n",
       "    <tr>\n",
       "      <th>23</th>\n",
       "      <td>Utah Jazz</td>\n",
       "      <td>0.10</td>\n",
       "    </tr>\n",
       "    <tr>\n",
       "      <th>24</th>\n",
       "      <td>Houston Rockets</td>\n",
       "      <td>0.05</td>\n",
       "    </tr>\n",
       "    <tr>\n",
       "      <th>25</th>\n",
       "      <td>Philadelphia 76ers</td>\n",
       "      <td>0.05</td>\n",
       "    </tr>\n",
       "    <tr>\n",
       "      <th>26</th>\n",
       "      <td>Denver Nuggets</td>\n",
       "      <td>0.05</td>\n",
       "    </tr>\n",
       "    <tr>\n",
       "      <th>27</th>\n",
       "      <td>Dallas Mavericks</td>\n",
       "      <td>0.05</td>\n",
       "    </tr>\n",
       "    <tr>\n",
       "      <th>28</th>\n",
       "      <td>Charlotte Hornets</td>\n",
       "      <td>0.05</td>\n",
       "    </tr>\n",
       "    <tr>\n",
       "      <th>29</th>\n",
       "      <td>Detroit Pistons</td>\n",
       "      <td>0.00</td>\n",
       "    </tr>\n",
       "  </tbody>\n",
       "</table>\n",
       "</div>"
      ],
      "text/plain": [
       "                      Team  Playoff\n",
       "0      Cleveland Cavaliers     0.85\n",
       "1           Boston Celtics     0.45\n",
       "2   Portland Trail Blazers     0.45\n",
       "3          New York Knicks     0.45\n",
       "4          Milwaukee Bucks     0.40\n",
       "5     Los Angeles Clippers     0.40\n",
       "6             Phoenix Suns     0.35\n",
       "7          Toronto Raptors     0.30\n",
       "8         Sacramento Kings     0.30\n",
       "9       Washington Wizards     0.25\n",
       "10           Brooklyn Nets     0.25\n",
       "11           Chicago Bulls     0.25\n",
       "12      Los Angeles Lakers     0.25\n",
       "13    New Orleans Pelicans     0.20\n",
       "14              Miami Heat     0.20\n",
       "15       Memphis Grizzlies     0.15\n",
       "16          Indiana Pacers     0.15\n",
       "17  Minnesota Timberwolves     0.15\n",
       "18   Golden State Warriors     0.15\n",
       "19           Orlando Magic     0.15\n",
       "20           Atlanta Hawks     0.15\n",
       "21   Oklahoma City Thunder     0.10\n",
       "22       San Antonio Spurs     0.10\n",
       "23               Utah Jazz     0.10\n",
       "24         Houston Rockets     0.05\n",
       "25      Philadelphia 76ers     0.05\n",
       "26          Denver Nuggets     0.05\n",
       "27        Dallas Mavericks     0.05\n",
       "28       Charlotte Hornets     0.05\n",
       "29         Detroit Pistons     0.00"
      ]
     },
     "execution_count": 26,
     "metadata": {},
     "output_type": "execute_result"
    }
   ],
   "source": [
    "# convert teams to a 2D dataframe with a single column\n",
    "teams_df = pd.DataFrame({'Team': teams})\n",
    "\n",
    "# match outcome with team, place in descending order\n",
    "outcome = pd.concat([teams_df, pd.DataFrame(y_pred, columns=['Playoff'])], axis=1)\n",
    "outcome.sort_values('Playoff', ascending=False, inplace=True, ignore_index=True)\n",
    "outcome"
   ]
  },
  {
   "cell_type": "markdown",
   "id": "ee8d15ef",
   "metadata": {},
   "source": [
    "# Random Forest Model"
   ]
  },
  {
   "cell_type": "markdown",
   "id": "3d8a909a",
   "metadata": {},
   "source": [
    "# Linear Regression Model"
   ]
  },
  {
   "cell_type": "code",
   "execution_count": null,
   "id": "e4b16a2f",
   "metadata": {},
   "outputs": [],
   "source": []
  }
 ],
 "metadata": {
  "kernelspec": {
   "display_name": "Python 3 (ipykernel)",
   "language": "python",
   "name": "python3"
  },
  "language_info": {
   "codemirror_mode": {
    "name": "ipython",
    "version": 3
   },
   "file_extension": ".py",
   "mimetype": "text/x-python",
   "name": "python",
   "nbconvert_exporter": "python",
   "pygments_lexer": "ipython3",
   "version": "3.9.13"
  }
 },
 "nbformat": 4,
 "nbformat_minor": 5
}
